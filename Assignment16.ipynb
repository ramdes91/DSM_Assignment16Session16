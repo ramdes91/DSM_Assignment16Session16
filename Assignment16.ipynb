{
 "cells": [
  {
   "cell_type": "code",
   "execution_count": 15,
   "metadata": {},
   "outputs": [],
   "source": [
    "import pandas as pd\n",
    "import numpy as np\n",
    "import scipy as sci\n",
    "import matplotlib.pyplot as plt\n",
    "import math \n",
    "from scipy.stats import binom"
   ]
  },
  {
   "cell_type": "code",
   "execution_count": 16,
   "metadata": {},
   "outputs": [
    {
     "name": "stdout",
     "output_type": "stream",
     "text": [
      "Probality of wrong answer of a single question:\t 0.75\n",
      "\n",
      "Probability of 5 wrong answers\n",
      "----------------------------\n",
      "\n",
      "Solution -1 - Mathemetical Model\n",
      "\t Using Formula: 20C5 * power((1-prob_wrong_answer),15) * power(prob_wrong_answer, 5)\n",
      "\n",
      "Probability of 5 wrong answers 3.4264958230778575e-06\n",
      "\n",
      "Solution -2 - Using scipy - probability mass function\n",
      "\t Using Formula: binom.pmf(5,total_num_of_question,p_wrong_answer)\n",
      "\n",
      "Probability of 5 wrong answers 3.4264958230778435e-06\n"
     ]
    }
   ],
   "source": [
    "# Define the variable \n",
    "num_of_question = 20\n",
    "\n",
    "# probability of wrong answer of a single question\n",
    "prob_wrong_answer = 3/4  # as one of the 4 question is right\n",
    "print('Probality of wrong answer of a single question:\\t', prob_wrong_answer)\n",
    "\n",
    "print('\\nProbability of 5 wrong answers')\n",
    "print('----------------------------')\n",
    "print('\\nSolution -1 - Mathemetical Model')\n",
    "print('\\t Using Formula: 20C5 * power((1-prob_wrong_answer),15) * power(prob_wrong_answer, 5)')\n",
    "\n",
    "p_five_wrong_answer = (math.factorial(20)/(math.factorial(15)*math.factorial(5))) \\\n",
    "                      * math.pow((1-prob_wrong_answer),15) * math.pow(prob_wrong_answer,5)\n",
    "print('\\nProbability of 5 wrong answers',p_five_wrong_answer)\n",
    "\n",
    "print('\\nSolution -2 - Using scipy - probability mass function')\n",
    "print('\\t Using Formula: binom.pmf(5,total_num_of_question,p_wrong_answer)')\n",
    "\n",
    "p_five_wrong_answer=binom.pmf(5,num_of_question,prob_wrong_answer)\n",
    "print('\\nProbability of 5 wrong answers',p_five_wrong_answer)"
   ]
  },
  {
   "cell_type": "code",
   "execution_count": 17,
   "metadata": {},
   "outputs": [
    {
     "name": "stdout",
     "output_type": "stream",
     "text": [
      "Probability of getting D in single roll:\t 0.2\n",
      "\n",
      "Probability of getting D exactly 5 times\n",
      "--------------------------------------\n",
      "\n",
      "Solution -1 - Mathemetical Model\n",
      "\t Using Formula: 50C5 * power((1-prob_D),45) * power(prob_D, 5)\n",
      "\n",
      "Probability of getting D exactly 5 times 0.029531204310524292\n",
      "\n",
      "Solution -2 - Using scipy - probability mass function\n",
      "\t Using Formula: binom.pmf(5,total_num_of_roll,p_D)\n",
      "\n",
      "Probability of 5 wrong answers 0.029531204310523224\n"
     ]
    }
   ],
   "source": [
    "# Define the variable \n",
    "num_of_roll = 50\n",
    "\n",
    "# probability of getting D in single roll \n",
    "prob_D = 1/5  # as in a roll, D has equal chance among A to E\n",
    "print('Probability of getting D in single roll:\\t', prob_D)\n",
    "\n",
    "print('\\nProbability of getting D exactly 5 times')\n",
    "print('--------------------------------------')\n",
    "print('\\nSolution -1 - Mathemetical Model')\n",
    "print('\\t Using Formula: 50C5 * power((1-prob_D),45) * power(prob_D, 5)')\n",
    "\n",
    "p_five_D = (math.factorial(50)/(math.factorial(45)*math.factorial(5))) \\\n",
    "                      * math.pow((1-prob_D),45) * math.pow(prob_D,5)\n",
    "print('\\nProbability of getting D exactly 5 times',p_five_D)\n",
    "\n",
    "print('\\nSolution -2 - Using scipy - probability mass function')\n",
    "print('\\t Using Formula: binom.pmf(5,total_num_of_roll,p_D)')\n",
    "\n",
    "p_five_D=binom.pmf(5,num_of_roll,prob_D)\n",
    "print('\\nProbability of 5 wrong answers',p_five_D)"
   ]
  },
  {
   "cell_type": "code",
   "execution_count": 18,
   "metadata": {},
   "outputs": [
    {
     "name": "stdout",
     "output_type": "stream",
     "text": [
      "  Color  Probability\n",
      "0    RR     0.133333\n",
      "1    RB     0.266667\n",
      "2    BR     0.266667\n",
      "3    BB     0.333333\n"
     ]
    },
    {
     "data": {
      "image/png": "[encoded data removed]",
      "text/plain": [
       "<Figure size 432x288 with 1 Axes>"
      ]
     },
     "metadata": {},
     "output_type": "display_data"
    }
   ],
   "source": [
    "# Define the variable \n",
    "num_of_balls = 10\n",
    "num_of_red_balls = 4\n",
    "num_of_black_balls = 6\n",
    "\n",
    "# Two balls are drawn at random in succession without replacement\n",
    "# If Red ball is denoted by R and Balck ball is denoted by B then\n",
    "# Possible outcome - RR, RB, BR, BB\n",
    "# probability of 1st ball red = 4/10\n",
    "# probability of 2nd ball red = 3/9 [when first ball is red]\n",
    "# probability of 2nd ball red = 4/9 [when first ball is black]\n",
    "# probability of 1st ball black = 6/10\n",
    "# probability of 2nd ball black = 5/9 [when first ball is black]\n",
    "# probability of 2nd ball black = 6/9 [when first ball is red]\n",
    "\n",
    "probability_RR = (4/10) * (3/9)\n",
    "probability_RB = (4/10) * (6/9)\n",
    "probability_BR = (6/10) * (4/9)\n",
    "probability_BB = (6/10) * (5/9)\n",
    "\n",
    "# Create a DF with the Probability distribution and random variable\n",
    "\n",
    "lst_color=['RR','RB','BR','BB']\n",
    "\n",
    "df_probability=pd.DataFrame({'Color':lst_color,\n",
    "                            'Probability':[probability_RR,probability_RB,probability_BR,probability_BB]})\n",
    "print(df_probability)\n",
    "\n",
    "# Plot the Probabalitis distributions\n",
    "plt.bar(df_probability.Color,df_probability.Probability,width=.3)\n",
    "plt.xlabel('Color of the Balls')\n",
    "plt.xticks(lst_color)\n",
    "plt.ylabel('Probability')\n",
    "plt.title('\\nProbabalities distribution Plot\\n')\n",
    "plt.show()"
   ]
  }
 ],
 "metadata": {
  "kernelspec": {
   "display_name": "Python 3",
   "language": "python",
   "name": "python3"
  },
  "language_info": {
   "codemirror_mode": {
    "name": "ipython",
    "version": 3
   },
   "file_extension": ".py",
   "mimetype": "text/x-python",
   "name": "python",
   "nbconvert_exporter": "python",
   "pygments_lexer": "ipython3",
   "version": "3.6.5"
  }
 },
 "nbformat": 4,
 "nbformat_minor": 2
}
